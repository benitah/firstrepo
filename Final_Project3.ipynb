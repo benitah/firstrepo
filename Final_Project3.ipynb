{
 "cells": [
  {
   "cell_type": "markdown",
   "metadata": {},
   "source": [
    "# Final Project 3"
   ]
  },
  {
   "cell_type": "markdown",
   "metadata": {},
   "source": [
    "This data set contains Pet Shelter data by Shelter for the years 2008 - 2014.  The data set is for dogs."
   ]
  },
  {
   "cell_type": "code",
   "execution_count": 31,
   "metadata": {
    "collapsed": false
   },
   "outputs": [],
   "source": [
    "%matplotlib inline\n",
    "import pandas as pd\n",
    "import matplotlib.pyplot as plt\n",
    "import numpy as np\n",
    "import pylab as pl\n",
    "from scipy import stats\n",
    "import seaborn as sns\n",
    "import statsmodels.api as sm\n",
    "from sklearn import linear_model\n",
    "pd.options.display.max_columns = 999\n",
    "pd.options.display.max_rows = 999"
   ]
  },
  {
   "cell_type": "code",
   "execution_count": 32,
   "metadata": {
    "collapsed": false
   },
   "outputs": [
    {
     "name": "stdout",
     "output_type": "stream",
     "text": [
      "                Shelter_Name    Year Shelter_Type  Community_Name  \\\n",
      "0  A New Leash on Life, Inc.  2008.0           AG  Madison County   \n",
      "1  A New Leash on Life, Inc.  2009.0           AG  Madison County   \n",
      "2  A New Leash on Life, Inc.  2010.0           AG  Madison County   \n",
      "3  A New Leash on Life, Inc.  2011.0           AG  Madison County   \n",
      "4  A New Leash on Life, Inc.  2012.0           AG  Madison County   \n",
      "\n",
      "  Community_State Community_Region  Community_Population  \\\n",
      "0              AL            South              319510.0   \n",
      "1              AL            South              327744.0   \n",
      "2              AL            South              335988.0   \n",
      "3              AL            South              340111.0   \n",
      "4              AL            South              343080.0   \n",
      "\n",
      "   Community_Median_Income  Beginning_Shelter_Count  \\\n",
      "0                  55096.0                     46.0   \n",
      "1                  57617.0                     54.0   \n",
      "2                  53539.0                     55.0   \n",
      "3                  54444.0                     52.0   \n",
      "4                  56839.0                     58.0   \n",
      "\n",
      "   Subtotal_Intake_from_Public  \\\n",
      "0                        144.0   \n",
      "1                        180.0   \n",
      "2                         99.0   \n",
      "3                        139.0   \n",
      "4                        167.0   \n",
      "\n",
      "   Subtotal_from_Incoming_Transfers_from_Organizations_within_Community  \\\n",
      "0                                               83.0                      \n",
      "1                                               83.0                      \n",
      "2                                              107.0                      \n",
      "3                                              159.0                      \n",
      "4                                               73.0                      \n",
      "\n",
      "   Subtotal_Intake_from_Incoming_Transfers_from_Organizations_outside_Community  \\\n",
      "0                                               40.0                              \n",
      "1                                                0.0                              \n",
      "2                                               28.0                              \n",
      "3                                                2.0                              \n",
      "4                                               21.0                              \n",
      "\n",
      "   Subtotal_Intake_from_Owners_Guardians_Requesting_Euthanasia   Total_Intake  \\\n",
      "0                                                0.0                    267.0   \n",
      "1                                                0.0                    263.0   \n",
      "2                                                0.0                    234.0   \n",
      "3                                                0.0                    300.0   \n",
      "4                                                0.0                    261.0   \n",
      "\n",
      "   Total_Adoptions  \\\n",
      "0            258.0   \n",
      "1            260.0   \n",
      "2            230.0   \n",
      "3            275.0   \n",
      "4            275.0   \n",
      "\n",
      "   TOTAL_OUTGOING_TRANSFERS_to _Organizations_within_Community  \\\n",
      "0                                                0.0             \n",
      "1                                                0.0             \n",
      "2                                                0.0             \n",
      "3                                                0.0             \n",
      "4                                                0.0             \n",
      "\n",
      "   TOTAL_OUTGOING_TRANSFERS_to _Organizations_Outside_Community  \\\n",
      "0                                                0.0              \n",
      "1                                                0.0              \n",
      "2                                                2.0              \n",
      "3                                                1.0              \n",
      "4                                                0.0              \n",
      "\n",
      "   Other_Return_to_Owner_Habitat_Died_Lost  Total_Euth  Total_Outcomes  \\\n",
      "0                                      0.0         3.0           261.0   \n",
      "1                                      0.0         2.0           262.0   \n",
      "2                                      4.0         1.0           237.0   \n",
      "3                                     13.0         5.0           294.0   \n",
      "4                                      1.0         1.0           277.0   \n",
      "\n",
      "   Sum_Intake_Healthy  Sum_Intake_TR  Sum_Intake_TM  Sum_Intake_UU  \\\n",
      "0               193.0           67.0            4.0            3.0   \n",
      "1               221.0           29.0           11.0            2.0   \n",
      "2               173.0           40.0           14.0            7.0   \n",
      "3               259.0           36.0            1.0            4.0   \n",
      "4               227.0           31.0            3.0            0.0   \n",
      "\n",
      "   Sum_Outgoing_Healthy  Sum_Outgoing_TR  Sum_Outgoing_TM  Sum_Outgoing_UU  \n",
      "0                 232.0             26.0              0.0              3.0  \n",
      "1                 227.0             25.0              8.0              2.0  \n",
      "2                 178.0             41.0             13.0              1.0  \n",
      "3                 239.0             35.0              1.0              6.0  \n",
      "4                 207.0             64.0              4.0              1.0  \n",
      "Shelter_Name                                                                    1556\n",
      "Year                                                                            1556\n",
      "Shelter_Type                                                                    1556\n",
      "Community_Name                                                                  1556\n",
      "Community_State                                                                 1556\n",
      "Community_Region                                                                1556\n",
      "Community_Population                                                            1556\n",
      "Community_Median_Income                                                         1556\n",
      "Beginning_Shelter_Count                                                         1556\n",
      "Subtotal_Intake_from_Public                                                     1556\n",
      "Subtotal_from_Incoming_Transfers_from_Organizations_within_Community            1556\n",
      "Subtotal_Intake_from_Incoming_Transfers_from_Organizations_outside_Community    1556\n",
      "Subtotal_Intake_from_Owners_Guardians_Requesting_Euthanasia                     1556\n",
      "Total_Intake                                                                    1556\n",
      "Total_Adoptions                                                                 1556\n",
      "TOTAL_OUTGOING_TRANSFERS_to _Organizations_within_Community                     1556\n",
      "TOTAL_OUTGOING_TRANSFERS_to _Organizations_Outside_Community                    1556\n",
      "Other_Return_to_Owner_Habitat_Died_Lost                                         1556\n",
      "Total_Euth                                                                      1556\n",
      "Total_Outcomes                                                                  1556\n",
      "Sum_Intake_Healthy                                                              1556\n",
      "Sum_Intake_TR                                                                   1556\n",
      "Sum_Intake_TM                                                                   1556\n",
      "Sum_Intake_UU                                                                   1556\n",
      "Sum_Outgoing_Healthy                                                            1556\n",
      "Sum_Outgoing_TR                                                                 1556\n",
      "Sum_Outgoing_TM                                                                 1556\n",
      "Sum_Outgoing_UU                                                                 1556\n",
      "dtype: int64\n"
     ]
    }
   ],
   "source": [
    "#read in dog data from source \n",
    "\n",
    "df_dog = pd.read_csv(\"dogs_final_csv.csv\")\n",
    "\n",
    "print df_dog.head()\n",
    "print df_dog.count()"
   ]
  },
  {
   "cell_type": "code",
   "execution_count": 33,
   "metadata": {
    "collapsed": false
   },
   "outputs": [
    {
     "data": {
      "text/plain": [
       "Shelter_Name                                                                    1392\n",
       "Year                                                                            1392\n",
       "Shelter_Type                                                                    1392\n",
       "Community_Name                                                                  1392\n",
       "Community_State                                                                 1392\n",
       "Community_Region                                                                1392\n",
       "Community_Population                                                            1392\n",
       "Community_Median_Income                                                         1392\n",
       "Beginning_Shelter_Count                                                         1392\n",
       "Subtotal_Intake_from_Public                                                     1392\n",
       "Subtotal_from_Incoming_Transfers_from_Organizations_within_Community            1392\n",
       "Subtotal_Intake_from_Incoming_Transfers_from_Organizations_outside_Community    1392\n",
       "Subtotal_Intake_from_Owners_Guardians_Requesting_Euthanasia                     1392\n",
       "Total_Intake                                                                    1392\n",
       "Total_Adoptions                                                                 1392\n",
       "TOTAL_OUTGOING_TRANSFERS_to _Organizations_within_Community                     1392\n",
       "TOTAL_OUTGOING_TRANSFERS_to _Organizations_Outside_Community                    1392\n",
       "Other_Return_to_Owner_Habitat_Died_Lost                                         1392\n",
       "Total_Euth                                                                      1392\n",
       "Total_Outcomes                                                                  1392\n",
       "Sum_Intake_Healthy                                                              1392\n",
       "Sum_Intake_TR                                                                   1392\n",
       "Sum_Intake_TM                                                                   1392\n",
       "Sum_Intake_UU                                                                   1392\n",
       "Sum_Outgoing_Healthy                                                            1392\n",
       "Sum_Outgoing_TR                                                                 1392\n",
       "Sum_Outgoing_TM                                                                 1392\n",
       "Sum_Outgoing_UU                                                                 1392\n",
       "dtype: int64"
      ]
     },
     "execution_count": 33,
     "metadata": {},
     "output_type": "execute_result"
    }
   ],
   "source": [
    "#taking out where Total Intake is zero\n",
    "\n",
    "df_dog[\"Total_Intake\"].replace(0,np.nan, inplace = True)\n",
    "\n",
    "df_dog = df_dog.dropna(subset=[\"Total_Intake\"])\n",
    "\n",
    "df_dog.count()"
   ]
  },
  {
   "cell_type": "code",
   "execution_count": 34,
   "metadata": {
    "collapsed": true
   },
   "outputs": [],
   "source": [
    "#create adoption rate\n",
    "\n",
    "df_dog[\"Adoption_Rate\"] = df_dog[\"Total_Adoptions\"]/df_dog[\"Total_Outcomes\"]"
   ]
  },
  {
   "cell_type": "code",
   "execution_count": 35,
   "metadata": {
    "collapsed": true
   },
   "outputs": [],
   "source": [
    "#create euthanized rate\n",
    "\n",
    "df_dog[\"Euth_Rate\"] = df_dog[\"Total_Euth\"]/df_dog[\"Total_Outcomes\"]"
   ]
  },
  {
   "cell_type": "code",
   "execution_count": 36,
   "metadata": {
    "collapsed": false
   },
   "outputs": [
    {
     "data": {
      "text/plain": [
       "Shelter_Name                                                                    1350\n",
       "Year                                                                            1350\n",
       "Shelter_Type                                                                    1350\n",
       "Community_Name                                                                  1350\n",
       "Community_State                                                                 1350\n",
       "Community_Region                                                                1350\n",
       "Community_Population                                                            1350\n",
       "Community_Median_Income                                                         1350\n",
       "Beginning_Shelter_Count                                                         1350\n",
       "Subtotal_Intake_from_Public                                                     1350\n",
       "Subtotal_from_Incoming_Transfers_from_Organizations_within_Community            1350\n",
       "Subtotal_Intake_from_Incoming_Transfers_from_Organizations_outside_Community    1350\n",
       "Subtotal_Intake_from_Owners_Guardians_Requesting_Euthanasia                     1350\n",
       "Total_Intake                                                                    1350\n",
       "Total_Adoptions                                                                 1350\n",
       "TOTAL_OUTGOING_TRANSFERS_to _Organizations_within_Community                     1350\n",
       "TOTAL_OUTGOING_TRANSFERS_to _Organizations_Outside_Community                    1350\n",
       "Other_Return_to_Owner_Habitat_Died_Lost                                         1350\n",
       "Total_Euth                                                                      1350\n",
       "Total_Outcomes                                                                  1350\n",
       "Sum_Intake_Healthy                                                              1350\n",
       "Sum_Intake_TR                                                                   1350\n",
       "Sum_Intake_TM                                                                   1350\n",
       "Sum_Intake_UU                                                                   1350\n",
       "Sum_Outgoing_Healthy                                                            1350\n",
       "Sum_Outgoing_TR                                                                 1350\n",
       "Sum_Outgoing_TM                                                                 1350\n",
       "Sum_Outgoing_UU                                                                 1350\n",
       "Adoption_Rate                                                                   1350\n",
       "Euth_Rate                                                                       1350\n",
       "Total_Health_Intake                                                             1350\n",
       "Percent_Healthy                                                                 1350\n",
       "dtype: int64"
      ]
     },
     "execution_count": 36,
     "metadata": {},
     "output_type": "execute_result"
    }
   ],
   "source": [
    "#create Health Status case mix\n",
    "#sum all Health Statuses, take out where Total Intake Health is zero, create ratio\n",
    "\n",
    "df_dog[\"Total_Health_Intake\"] = df_dog[\"Sum_Intake_Healthy\"] + df_dog[\"Sum_Intake_TR\"] + df_dog[\"Sum_Intake_TM\"] + df_dog[\"Sum_Intake_UU\"]\n",
    "\n",
    "df_dog[\"Total_Health_Intake\"].replace(0,np.nan, inplace = True)\n",
    "\n",
    "df_dog = df_dog.dropna(subset=[\"Total_Health_Intake\"])\n",
    "\n",
    "df_dog[\"Percent_Healthy\"] = df_dog[\"Sum_Intake_Healthy\"]/df_dog[\"Total_Health_Intake\"]\n",
    "df_dog.count()"
   ]
  },
  {
   "cell_type": "code",
   "execution_count": 37,
   "metadata": {
    "collapsed": false
   },
   "outputs": [
    {
     "data": {
      "text/plain": [
       "Shelter_Name                                                                    0\n",
       "Year                                                                            0\n",
       "Shelter_Type                                                                    0\n",
       "Community_Name                                                                  0\n",
       "Community_State                                                                 0\n",
       "Community_Region                                                                0\n",
       "Community_Population                                                            0\n",
       "Community_Median_Income                                                         0\n",
       "Beginning_Shelter_Count                                                         0\n",
       "Subtotal_Intake_from_Public                                                     0\n",
       "Subtotal_from_Incoming_Transfers_from_Organizations_within_Community            0\n",
       "Subtotal_Intake_from_Incoming_Transfers_from_Organizations_outside_Community    0\n",
       "Subtotal_Intake_from_Owners_Guardians_Requesting_Euthanasia                     0\n",
       "Total_Intake                                                                    0\n",
       "Total_Adoptions                                                                 0\n",
       "TOTAL_OUTGOING_TRANSFERS_to _Organizations_within_Community                     0\n",
       "TOTAL_OUTGOING_TRANSFERS_to _Organizations_Outside_Community                    0\n",
       "Other_Return_to_Owner_Habitat_Died_Lost                                         0\n",
       "Total_Euth                                                                      0\n",
       "Total_Outcomes                                                                  0\n",
       "Sum_Intake_Healthy                                                              0\n",
       "Sum_Intake_TR                                                                   0\n",
       "Sum_Intake_TM                                                                   0\n",
       "Sum_Intake_UU                                                                   0\n",
       "Sum_Outgoing_Healthy                                                            0\n",
       "Sum_Outgoing_TR                                                                 0\n",
       "Sum_Outgoing_TM                                                                 0\n",
       "Sum_Outgoing_UU                                                                 0\n",
       "Adoption_Rate                                                                   0\n",
       "Euth_Rate                                                                       0\n",
       "Total_Health_Intake                                                             0\n",
       "Percent_Healthy                                                                 0\n",
       "dtype: int64"
      ]
     },
     "execution_count": 37,
     "metadata": {},
     "output_type": "execute_result"
    }
   ],
   "source": [
    "df_dog.isnull().sum()"
   ]
  },
  {
   "cell_type": "code",
   "execution_count": 38,
   "metadata": {
    "collapsed": false
   },
   "outputs": [
    {
     "data": {
      "text/html": [
       "<div>\n",
       "<style>\n",
       "    .dataframe thead tr:only-child th {\n",
       "        text-align: right;\n",
       "    }\n",
       "\n",
       "    .dataframe thead th {\n",
       "        text-align: left;\n",
       "    }\n",
       "\n",
       "    .dataframe tbody tr th {\n",
       "        vertical-align: top;\n",
       "    }\n",
       "</style>\n",
       "<table border=\"1\" class=\"dataframe\">\n",
       "  <thead>\n",
       "    <tr style=\"text-align: right;\">\n",
       "      <th></th>\n",
       "      <th>Year</th>\n",
       "      <th>Community_Population</th>\n",
       "      <th>Community_Median_Income</th>\n",
       "      <th>Beginning_Shelter_Count</th>\n",
       "      <th>Subtotal_Intake_from_Public</th>\n",
       "      <th>Subtotal_from_Incoming_Transfers_from_Organizations_within_Community</th>\n",
       "      <th>Subtotal_Intake_from_Incoming_Transfers_from_Organizations_outside_Community</th>\n",
       "      <th>Subtotal_Intake_from_Owners_Guardians_Requesting_Euthanasia</th>\n",
       "      <th>Total_Intake</th>\n",
       "      <th>Total_Adoptions</th>\n",
       "      <th>TOTAL_OUTGOING_TRANSFERS_to _Organizations_within_Community</th>\n",
       "      <th>TOTAL_OUTGOING_TRANSFERS_to _Organizations_Outside_Community</th>\n",
       "      <th>Other_Return_to_Owner_Habitat_Died_Lost</th>\n",
       "      <th>Total_Euth</th>\n",
       "      <th>Total_Outcomes</th>\n",
       "      <th>Sum_Intake_Healthy</th>\n",
       "      <th>Sum_Intake_TR</th>\n",
       "      <th>Sum_Intake_TM</th>\n",
       "      <th>Sum_Intake_UU</th>\n",
       "      <th>Sum_Outgoing_Healthy</th>\n",
       "      <th>Sum_Outgoing_TR</th>\n",
       "      <th>Sum_Outgoing_TM</th>\n",
       "      <th>Sum_Outgoing_UU</th>\n",
       "      <th>Adoption_Rate</th>\n",
       "      <th>Euth_Rate</th>\n",
       "      <th>Total_Health_Intake</th>\n",
       "      <th>Percent_Healthy</th>\n",
       "    </tr>\n",
       "  </thead>\n",
       "  <tbody>\n",
       "    <tr>\n",
       "      <th>count</th>\n",
       "      <td>1350.000000</td>\n",
       "      <td>1.350000e+03</td>\n",
       "      <td>1350.000000</td>\n",
       "      <td>1350.000000</td>\n",
       "      <td>1350.000000</td>\n",
       "      <td>1350.000000</td>\n",
       "      <td>1350.000000</td>\n",
       "      <td>1350.000000</td>\n",
       "      <td>1350.000000</td>\n",
       "      <td>1350.000000</td>\n",
       "      <td>1350.000000</td>\n",
       "      <td>1350.000000</td>\n",
       "      <td>1350.000000</td>\n",
       "      <td>1350.000000</td>\n",
       "      <td>1350.000000</td>\n",
       "      <td>1350.000000</td>\n",
       "      <td>1350.000000</td>\n",
       "      <td>1350.000000</td>\n",
       "      <td>1350.000000</td>\n",
       "      <td>1350.000000</td>\n",
       "      <td>1350.000000</td>\n",
       "      <td>1350.000000</td>\n",
       "      <td>1350.000000</td>\n",
       "      <td>1350.000000</td>\n",
       "      <td>1350.000000</td>\n",
       "      <td>1350.000000</td>\n",
       "      <td>1350.000000</td>\n",
       "    </tr>\n",
       "    <tr>\n",
       "      <th>mean</th>\n",
       "      <td>2010.780741</td>\n",
       "      <td>1.112929e+06</td>\n",
       "      <td>56356.405185</td>\n",
       "      <td>75.902222</td>\n",
       "      <td>1659.424444</td>\n",
       "      <td>151.845926</td>\n",
       "      <td>117.115556</td>\n",
       "      <td>90.808889</td>\n",
       "      <td>2019.227407</td>\n",
       "      <td>774.214815</td>\n",
       "      <td>145.580000</td>\n",
       "      <td>129.200741</td>\n",
       "      <td>333.877037</td>\n",
       "      <td>629.865185</td>\n",
       "      <td>2012.737778</td>\n",
       "      <td>1159.682963</td>\n",
       "      <td>319.787407</td>\n",
       "      <td>165.271111</td>\n",
       "      <td>359.262222</td>\n",
       "      <td>825.591852</td>\n",
       "      <td>283.748889</td>\n",
       "      <td>161.120000</td>\n",
       "      <td>402.057778</td>\n",
       "      <td>0.631982</td>\n",
       "      <td>0.130184</td>\n",
       "      <td>2004.003704</td>\n",
       "      <td>0.647918</td>\n",
       "    </tr>\n",
       "    <tr>\n",
       "      <th>std</th>\n",
       "      <td>1.992778</td>\n",
       "      <td>1.207722e+06</td>\n",
       "      <td>14045.482473</td>\n",
       "      <td>154.971829</td>\n",
       "      <td>4283.570543</td>\n",
       "      <td>447.026050</td>\n",
       "      <td>382.595709</td>\n",
       "      <td>364.442443</td>\n",
       "      <td>4522.510388</td>\n",
       "      <td>1488.209138</td>\n",
       "      <td>488.424124</td>\n",
       "      <td>432.561502</td>\n",
       "      <td>938.137914</td>\n",
       "      <td>2017.569828</td>\n",
       "      <td>4506.399721</td>\n",
       "      <td>2454.362261</td>\n",
       "      <td>888.888727</td>\n",
       "      <td>595.786960</td>\n",
       "      <td>1386.118583</td>\n",
       "      <td>1711.399039</td>\n",
       "      <td>738.667386</td>\n",
       "      <td>559.875745</td>\n",
       "      <td>1342.739688</td>\n",
       "      <td>0.341037</td>\n",
       "      <td>0.175796</td>\n",
       "      <td>4522.049795</td>\n",
       "      <td>0.264500</td>\n",
       "    </tr>\n",
       "    <tr>\n",
       "      <th>min</th>\n",
       "      <td>2008.000000</td>\n",
       "      <td>2.474100e+04</td>\n",
       "      <td>34119.000000</td>\n",
       "      <td>0.000000</td>\n",
       "      <td>0.000000</td>\n",
       "      <td>0.000000</td>\n",
       "      <td>0.000000</td>\n",
       "      <td>0.000000</td>\n",
       "      <td>1.000000</td>\n",
       "      <td>0.000000</td>\n",
       "      <td>0.000000</td>\n",
       "      <td>0.000000</td>\n",
       "      <td>0.000000</td>\n",
       "      <td>0.000000</td>\n",
       "      <td>1.000000</td>\n",
       "      <td>0.000000</td>\n",
       "      <td>0.000000</td>\n",
       "      <td>0.000000</td>\n",
       "      <td>0.000000</td>\n",
       "      <td>0.000000</td>\n",
       "      <td>0.000000</td>\n",
       "      <td>0.000000</td>\n",
       "      <td>0.000000</td>\n",
       "      <td>0.000000</td>\n",
       "      <td>0.000000</td>\n",
       "      <td>1.000000</td>\n",
       "      <td>0.000000</td>\n",
       "    </tr>\n",
       "    <tr>\n",
       "      <th>25%</th>\n",
       "      <td>2009.000000</td>\n",
       "      <td>2.897148e+05</td>\n",
       "      <td>45383.000000</td>\n",
       "      <td>10.000000</td>\n",
       "      <td>44.000000</td>\n",
       "      <td>0.000000</td>\n",
       "      <td>0.000000</td>\n",
       "      <td>0.000000</td>\n",
       "      <td>143.250000</td>\n",
       "      <td>84.250000</td>\n",
       "      <td>0.000000</td>\n",
       "      <td>0.000000</td>\n",
       "      <td>1.000000</td>\n",
       "      <td>1.000000</td>\n",
       "      <td>142.250000</td>\n",
       "      <td>72.250000</td>\n",
       "      <td>7.000000</td>\n",
       "      <td>1.000000</td>\n",
       "      <td>0.000000</td>\n",
       "      <td>70.000000</td>\n",
       "      <td>4.000000</td>\n",
       "      <td>0.000000</td>\n",
       "      <td>2.000000</td>\n",
       "      <td>0.290144</td>\n",
       "      <td>0.006102</td>\n",
       "      <td>141.000000</td>\n",
       "      <td>0.483891</td>\n",
       "    </tr>\n",
       "    <tr>\n",
       "      <th>50%</th>\n",
       "      <td>2011.000000</td>\n",
       "      <td>8.128260e+05</td>\n",
       "      <td>53539.000000</td>\n",
       "      <td>33.000000</td>\n",
       "      <td>284.000000</td>\n",
       "      <td>11.000000</td>\n",
       "      <td>1.000000</td>\n",
       "      <td>0.000000</td>\n",
       "      <td>439.000000</td>\n",
       "      <td>259.000000</td>\n",
       "      <td>1.000000</td>\n",
       "      <td>2.000000</td>\n",
       "      <td>20.000000</td>\n",
       "      <td>12.000000</td>\n",
       "      <td>440.500000</td>\n",
       "      <td>272.500000</td>\n",
       "      <td>58.000000</td>\n",
       "      <td>11.000000</td>\n",
       "      <td>9.000000</td>\n",
       "      <td>227.000000</td>\n",
       "      <td>41.000000</td>\n",
       "      <td>10.000000</td>\n",
       "      <td>16.000000</td>\n",
       "      <td>0.743328</td>\n",
       "      <td>0.038513</td>\n",
       "      <td>433.500000</td>\n",
       "      <td>0.696277</td>\n",
       "    </tr>\n",
       "    <tr>\n",
       "      <th>75%</th>\n",
       "      <td>2012.000000</td>\n",
       "      <td>1.529875e+06</td>\n",
       "      <td>67518.000000</td>\n",
       "      <td>79.000000</td>\n",
       "      <td>1504.000000</td>\n",
       "      <td>102.750000</td>\n",
       "      <td>50.000000</td>\n",
       "      <td>13.750000</td>\n",
       "      <td>2066.500000</td>\n",
       "      <td>759.250000</td>\n",
       "      <td>61.000000</td>\n",
       "      <td>64.500000</td>\n",
       "      <td>300.750000</td>\n",
       "      <td>397.750000</td>\n",
       "      <td>2074.250000</td>\n",
       "      <td>1273.750000</td>\n",
       "      <td>295.000000</td>\n",
       "      <td>92.000000</td>\n",
       "      <td>175.750000</td>\n",
       "      <td>820.500000</td>\n",
       "      <td>238.000000</td>\n",
       "      <td>90.000000</td>\n",
       "      <td>240.000000</td>\n",
       "      <td>0.958727</td>\n",
       "      <td>0.211024</td>\n",
       "      <td>2034.750000</td>\n",
       "      <td>0.859536</td>\n",
       "    </tr>\n",
       "    <tr>\n",
       "      <th>max</th>\n",
       "      <td>2014.000000</td>\n",
       "      <td>8.491079e+06</td>\n",
       "      <td>97532.000000</td>\n",
       "      <td>2109.000000</td>\n",
       "      <td>43920.000000</td>\n",
       "      <td>5440.000000</td>\n",
       "      <td>5090.000000</td>\n",
       "      <td>6746.000000</td>\n",
       "      <td>43927.000000</td>\n",
       "      <td>12995.000000</td>\n",
       "      <td>6181.000000</td>\n",
       "      <td>5400.000000</td>\n",
       "      <td>15206.000000</td>\n",
       "      <td>22499.000000</td>\n",
       "      <td>43927.000000</td>\n",
       "      <td>30617.000000</td>\n",
       "      <td>11723.000000</td>\n",
       "      <td>7787.000000</td>\n",
       "      <td>17307.000000</td>\n",
       "      <td>17724.000000</td>\n",
       "      <td>11027.000000</td>\n",
       "      <td>7609.000000</td>\n",
       "      <td>16144.000000</td>\n",
       "      <td>1.000000</td>\n",
       "      <td>0.830189</td>\n",
       "      <td>43927.000000</td>\n",
       "      <td>1.000000</td>\n",
       "    </tr>\n",
       "  </tbody>\n",
       "</table>\n",
       "</div>"
      ],
      "text/plain": [
       "              Year  Community_Population  Community_Median_Income  \\\n",
       "count  1350.000000          1.350000e+03              1350.000000   \n",
       "mean   2010.780741          1.112929e+06             56356.405185   \n",
       "std       1.992778          1.207722e+06             14045.482473   \n",
       "min    2008.000000          2.474100e+04             34119.000000   \n",
       "25%    2009.000000          2.897148e+05             45383.000000   \n",
       "50%    2011.000000          8.128260e+05             53539.000000   \n",
       "75%    2012.000000          1.529875e+06             67518.000000   \n",
       "max    2014.000000          8.491079e+06             97532.000000   \n",
       "\n",
       "       Beginning_Shelter_Count  Subtotal_Intake_from_Public  \\\n",
       "count              1350.000000                  1350.000000   \n",
       "mean                 75.902222                  1659.424444   \n",
       "std                 154.971829                  4283.570543   \n",
       "min                   0.000000                     0.000000   \n",
       "25%                  10.000000                    44.000000   \n",
       "50%                  33.000000                   284.000000   \n",
       "75%                  79.000000                  1504.000000   \n",
       "max                2109.000000                 43920.000000   \n",
       "\n",
       "       Subtotal_from_Incoming_Transfers_from_Organizations_within_Community  \\\n",
       "count                                        1350.000000                      \n",
       "mean                                          151.845926                      \n",
       "std                                           447.026050                      \n",
       "min                                             0.000000                      \n",
       "25%                                             0.000000                      \n",
       "50%                                            11.000000                      \n",
       "75%                                           102.750000                      \n",
       "max                                          5440.000000                      \n",
       "\n",
       "       Subtotal_Intake_from_Incoming_Transfers_from_Organizations_outside_Community  \\\n",
       "count                                        1350.000000                              \n",
       "mean                                          117.115556                              \n",
       "std                                           382.595709                              \n",
       "min                                             0.000000                              \n",
       "25%                                             0.000000                              \n",
       "50%                                             1.000000                              \n",
       "75%                                            50.000000                              \n",
       "max                                          5090.000000                              \n",
       "\n",
       "       Subtotal_Intake_from_Owners_Guardians_Requesting_Euthanasia   \\\n",
       "count                                        1350.000000              \n",
       "mean                                           90.808889              \n",
       "std                                           364.442443              \n",
       "min                                             0.000000              \n",
       "25%                                             0.000000              \n",
       "50%                                             0.000000              \n",
       "75%                                            13.750000              \n",
       "max                                          6746.000000              \n",
       "\n",
       "       Total_Intake  Total_Adoptions  \\\n",
       "count   1350.000000      1350.000000   \n",
       "mean    2019.227407       774.214815   \n",
       "std     4522.510388      1488.209138   \n",
       "min        1.000000         0.000000   \n",
       "25%      143.250000        84.250000   \n",
       "50%      439.000000       259.000000   \n",
       "75%     2066.500000       759.250000   \n",
       "max    43927.000000     12995.000000   \n",
       "\n",
       "       TOTAL_OUTGOING_TRANSFERS_to _Organizations_within_Community  \\\n",
       "count                                        1350.000000             \n",
       "mean                                          145.580000             \n",
       "std                                           488.424124             \n",
       "min                                             0.000000             \n",
       "25%                                             0.000000             \n",
       "50%                                             1.000000             \n",
       "75%                                            61.000000             \n",
       "max                                          6181.000000             \n",
       "\n",
       "       TOTAL_OUTGOING_TRANSFERS_to _Organizations_Outside_Community  \\\n",
       "count                                        1350.000000              \n",
       "mean                                          129.200741              \n",
       "std                                           432.561502              \n",
       "min                                             0.000000              \n",
       "25%                                             0.000000              \n",
       "50%                                             2.000000              \n",
       "75%                                            64.500000              \n",
       "max                                          5400.000000              \n",
       "\n",
       "       Other_Return_to_Owner_Habitat_Died_Lost    Total_Euth  Total_Outcomes  \\\n",
       "count                              1350.000000   1350.000000     1350.000000   \n",
       "mean                                333.877037    629.865185     2012.737778   \n",
       "std                                 938.137914   2017.569828     4506.399721   \n",
       "min                                   0.000000      0.000000        1.000000   \n",
       "25%                                   1.000000      1.000000      142.250000   \n",
       "50%                                  20.000000     12.000000      440.500000   \n",
       "75%                                 300.750000    397.750000     2074.250000   \n",
       "max                               15206.000000  22499.000000    43927.000000   \n",
       "\n",
       "       Sum_Intake_Healthy  Sum_Intake_TR  Sum_Intake_TM  Sum_Intake_UU  \\\n",
       "count         1350.000000    1350.000000    1350.000000    1350.000000   \n",
       "mean          1159.682963     319.787407     165.271111     359.262222   \n",
       "std           2454.362261     888.888727     595.786960    1386.118583   \n",
       "min              0.000000       0.000000       0.000000       0.000000   \n",
       "25%             72.250000       7.000000       1.000000       0.000000   \n",
       "50%            272.500000      58.000000      11.000000       9.000000   \n",
       "75%           1273.750000     295.000000      92.000000     175.750000   \n",
       "max          30617.000000   11723.000000    7787.000000   17307.000000   \n",
       "\n",
       "       Sum_Outgoing_Healthy  Sum_Outgoing_TR  Sum_Outgoing_TM  \\\n",
       "count           1350.000000      1350.000000      1350.000000   \n",
       "mean             825.591852       283.748889       161.120000   \n",
       "std             1711.399039       738.667386       559.875745   \n",
       "min                0.000000         0.000000         0.000000   \n",
       "25%               70.000000         4.000000         0.000000   \n",
       "50%              227.000000        41.000000        10.000000   \n",
       "75%              820.500000       238.000000        90.000000   \n",
       "max            17724.000000     11027.000000      7609.000000   \n",
       "\n",
       "       Sum_Outgoing_UU  Adoption_Rate    Euth_Rate  Total_Health_Intake  \\\n",
       "count      1350.000000    1350.000000  1350.000000          1350.000000   \n",
       "mean        402.057778       0.631982     0.130184          2004.003704   \n",
       "std        1342.739688       0.341037     0.175796          4522.049795   \n",
       "min           0.000000       0.000000     0.000000             1.000000   \n",
       "25%           2.000000       0.290144     0.006102           141.000000   \n",
       "50%          16.000000       0.743328     0.038513           433.500000   \n",
       "75%         240.000000       0.958727     0.211024          2034.750000   \n",
       "max       16144.000000       1.000000     0.830189         43927.000000   \n",
       "\n",
       "       Percent_Healthy  \n",
       "count      1350.000000  \n",
       "mean          0.647918  \n",
       "std           0.264500  \n",
       "min           0.000000  \n",
       "25%           0.483891  \n",
       "50%           0.696277  \n",
       "75%           0.859536  \n",
       "max           1.000000  "
      ]
     },
     "execution_count": 38,
     "metadata": {},
     "output_type": "execute_result"
    }
   ],
   "source": [
    "df_dog.describe()"
   ]
  },
  {
   "cell_type": "code",
   "execution_count": 39,
   "metadata": {
    "collapsed": false
   },
   "outputs": [
    {
     "data": {
      "text/plain": [
       "Year                                                                            2.010781e+03\n",
       "Community_Population                                                            1.112929e+06\n",
       "Community_Median_Income                                                         5.635641e+04\n",
       "Beginning_Shelter_Count                                                         7.590222e+01\n",
       "Subtotal_Intake_from_Public                                                     1.659424e+03\n",
       "Subtotal_from_Incoming_Transfers_from_Organizations_within_Community            1.518459e+02\n",
       "Subtotal_Intake_from_Incoming_Transfers_from_Organizations_outside_Community    1.171156e+02\n",
       "Subtotal_Intake_from_Owners_Guardians_Requesting_Euthanasia                     9.080889e+01\n",
       "Total_Intake                                                                    2.019227e+03\n",
       "Total_Adoptions                                                                 7.742148e+02\n",
       "TOTAL_OUTGOING_TRANSFERS_to _Organizations_within_Community                     1.455800e+02\n",
       "TOTAL_OUTGOING_TRANSFERS_to _Organizations_Outside_Community                    1.292007e+02\n",
       "Other_Return_to_Owner_Habitat_Died_Lost                                         3.338770e+02\n",
       "Total_Euth                                                                      6.298652e+02\n",
       "Total_Outcomes                                                                  2.012738e+03\n",
       "Sum_Intake_Healthy                                                              1.159683e+03\n",
       "Sum_Intake_TR                                                                   3.197874e+02\n",
       "Sum_Intake_TM                                                                   1.652711e+02\n",
       "Sum_Intake_UU                                                                   3.592622e+02\n",
       "Sum_Outgoing_Healthy                                                            8.255919e+02\n",
       "Sum_Outgoing_TR                                                                 2.837489e+02\n",
       "Sum_Outgoing_TM                                                                 1.611200e+02\n",
       "Sum_Outgoing_UU                                                                 4.020578e+02\n",
       "Adoption_Rate                                                                   6.319819e-01\n",
       "Euth_Rate                                                                       1.301843e-01\n",
       "Total_Health_Intake                                                             2.004004e+03\n",
       "Percent_Healthy                                                                 6.479177e-01\n",
       "dtype: float64"
      ]
     },
     "execution_count": 39,
     "metadata": {},
     "output_type": "execute_result"
    }
   ],
   "source": [
    "df_dog.mean()"
   ]
  },
  {
   "cell_type": "code",
   "execution_count": 40,
   "metadata": {
    "collapsed": false
   },
   "outputs": [
    {
     "data": {
      "text/plain": [
       "Year                                                                            1.992778e+00\n",
       "Community_Population                                                            1.207722e+06\n",
       "Community_Median_Income                                                         1.404548e+04\n",
       "Beginning_Shelter_Count                                                         1.549718e+02\n",
       "Subtotal_Intake_from_Public                                                     4.283571e+03\n",
       "Subtotal_from_Incoming_Transfers_from_Organizations_within_Community            4.470260e+02\n",
       "Subtotal_Intake_from_Incoming_Transfers_from_Organizations_outside_Community    3.825957e+02\n",
       "Subtotal_Intake_from_Owners_Guardians_Requesting_Euthanasia                     3.644424e+02\n",
       "Total_Intake                                                                    4.522510e+03\n",
       "Total_Adoptions                                                                 1.488209e+03\n",
       "TOTAL_OUTGOING_TRANSFERS_to _Organizations_within_Community                     4.884241e+02\n",
       "TOTAL_OUTGOING_TRANSFERS_to _Organizations_Outside_Community                    4.325615e+02\n",
       "Other_Return_to_Owner_Habitat_Died_Lost                                         9.381379e+02\n",
       "Total_Euth                                                                      2.017570e+03\n",
       "Total_Outcomes                                                                  4.506400e+03\n",
       "Sum_Intake_Healthy                                                              2.454362e+03\n",
       "Sum_Intake_TR                                                                   8.888887e+02\n",
       "Sum_Intake_TM                                                                   5.957870e+02\n",
       "Sum_Intake_UU                                                                   1.386119e+03\n",
       "Sum_Outgoing_Healthy                                                            1.711399e+03\n",
       "Sum_Outgoing_TR                                                                 7.386674e+02\n",
       "Sum_Outgoing_TM                                                                 5.598757e+02\n",
       "Sum_Outgoing_UU                                                                 1.342740e+03\n",
       "Adoption_Rate                                                                   3.410375e-01\n",
       "Euth_Rate                                                                       1.757963e-01\n",
       "Total_Health_Intake                                                             4.522050e+03\n",
       "Percent_Healthy                                                                 2.644995e-01\n",
       "dtype: float64"
      ]
     },
     "execution_count": 40,
     "metadata": {},
     "output_type": "execute_result"
    }
   ],
   "source": [
    "df_dog.std()"
   ]
  },
  {
   "cell_type": "code",
   "execution_count": 41,
   "metadata": {
    "collapsed": false
   },
   "outputs": [
    {
     "data": {
      "text/plain": [
       "<matplotlib.axes._subplots.AxesSubplot at 0x112bed790>"
      ]
     },
     "execution_count": 41,
     "metadata": {},
     "output_type": "execute_result"
    },
    {
     "data": {
      "image/png": "[encoded data removed]",
      "text/plain": [
       "<matplotlib.figure.Figure at 0x1169335d0>"
      ]
     },
     "metadata": {},
     "output_type": "display_data"
    }
   ],
   "source": [
    "x = df_dog.corr()\n",
    "sns.heatmap(x)"
   ]
  },
  {
   "cell_type": "code",
   "execution_count": 42,
   "metadata": {
    "collapsed": false
   },
   "outputs": [
    {
     "name": "stdout",
     "output_type": "stream",
     "text": [
      "   comm_reg_Midwest  comm_reg_Northeast  comm_reg_South  comm_reg_West\n",
      "0                 0                   0               1              0\n",
      "1                 0                   0               1              0\n",
      "2                 0                   0               1              0\n",
      "3                 0                   0               1              0\n",
      "4                 0                   0               1              0\n"
     ]
    }
   ],
   "source": [
    "#create dummy variables for Community Region\n",
    "\n",
    "dummy = pd.get_dummies(df_dog['Community_Region'], prefix='comm_reg')\n",
    "print dummy.head()"
   ]
  },
  {
   "cell_type": "code",
   "execution_count": 43,
   "metadata": {
    "collapsed": false
   },
   "outputs": [
    {
     "name": "stdout",
     "output_type": "stream",
     "text": [
      "   shelter_AC  shelter_AG  shelter_TS\n",
      "0           0           1           0\n",
      "1           0           1           0\n",
      "2           0           1           0\n",
      "3           0           1           0\n",
      "4           0           1           0\n"
     ]
    }
   ],
   "source": [
    "#create dummy variables for Shelter Type\n",
    "\n",
    "dummy2 = pd.get_dummies(df_dog['Shelter_Type'], prefix='shelter')\n",
    "print dummy2.head()"
   ]
  },
  {
   "cell_type": "code",
   "execution_count": 44,
   "metadata": {
    "collapsed": false
   },
   "outputs": [
    {
     "name": "stderr",
     "output_type": "stream",
     "text": [
      "/Users/benitaho/anaconda/lib/python2.7/site-packages/ipykernel/__main__.py:6: DeprecationWarning: \n",
      ".ix is deprecated. Please use\n",
      ".loc for label based indexing or\n",
      ".iloc for positional indexing\n",
      "\n",
      "See the documentation here:\n",
      "http://pandas.pydata.org/pandas-docs/stable/indexing.html#deprecate_ix\n",
      "/Users/benitaho/anaconda/lib/python2.7/site-packages/ipykernel/__main__.py:8: DeprecationWarning: \n",
      ".ix is deprecated. Please use\n",
      ".loc for label based indexing or\n",
      ".iloc for positional indexing\n",
      "\n",
      "See the documentation here:\n",
      "http://pandas.pydata.org/pandas-docs/stable/indexing.html#deprecate_ix\n"
     ]
    },
    {
     "data": {
      "text/html": [
       "<div>\n",
       "<style>\n",
       "    .dataframe thead tr:only-child th {\n",
       "        text-align: right;\n",
       "    }\n",
       "\n",
       "    .dataframe thead th {\n",
       "        text-align: left;\n",
       "    }\n",
       "\n",
       "    .dataframe tbody tr th {\n",
       "        vertical-align: top;\n",
       "    }\n",
       "</style>\n",
       "<table border=\"1\" class=\"dataframe\">\n",
       "  <thead>\n",
       "    <tr style=\"text-align: right;\">\n",
       "      <th></th>\n",
       "      <th>Community_Population</th>\n",
       "      <th>Community_Median_Income</th>\n",
       "      <th>Percent_Healthy</th>\n",
       "      <th>Adoption_Rate</th>\n",
       "      <th>Euth_Rate</th>\n",
       "      <th>comm_reg_Midwest</th>\n",
       "      <th>comm_reg_Northeast</th>\n",
       "      <th>comm_reg_South</th>\n",
       "      <th>comm_reg_West</th>\n",
       "      <th>shelter_AC</th>\n",
       "      <th>shelter_AG</th>\n",
       "      <th>shelter_TS</th>\n",
       "    </tr>\n",
       "  </thead>\n",
       "  <tbody>\n",
       "    <tr>\n",
       "      <th>0</th>\n",
       "      <td>319510.0</td>\n",
       "      <td>55096.0</td>\n",
       "      <td>0.722846</td>\n",
       "      <td>0.988506</td>\n",
       "      <td>0.011494</td>\n",
       "      <td>0</td>\n",
       "      <td>0</td>\n",
       "      <td>1</td>\n",
       "      <td>0</td>\n",
       "      <td>0</td>\n",
       "      <td>1</td>\n",
       "      <td>0</td>\n",
       "    </tr>\n",
       "    <tr>\n",
       "      <th>1</th>\n",
       "      <td>327744.0</td>\n",
       "      <td>57617.0</td>\n",
       "      <td>0.840304</td>\n",
       "      <td>0.992366</td>\n",
       "      <td>0.007634</td>\n",
       "      <td>0</td>\n",
       "      <td>0</td>\n",
       "      <td>1</td>\n",
       "      <td>0</td>\n",
       "      <td>0</td>\n",
       "      <td>1</td>\n",
       "      <td>0</td>\n",
       "    </tr>\n",
       "    <tr>\n",
       "      <th>2</th>\n",
       "      <td>335988.0</td>\n",
       "      <td>53539.0</td>\n",
       "      <td>0.739316</td>\n",
       "      <td>0.970464</td>\n",
       "      <td>0.004219</td>\n",
       "      <td>0</td>\n",
       "      <td>0</td>\n",
       "      <td>1</td>\n",
       "      <td>0</td>\n",
       "      <td>0</td>\n",
       "      <td>1</td>\n",
       "      <td>0</td>\n",
       "    </tr>\n",
       "    <tr>\n",
       "      <th>3</th>\n",
       "      <td>340111.0</td>\n",
       "      <td>54444.0</td>\n",
       "      <td>0.863333</td>\n",
       "      <td>0.935374</td>\n",
       "      <td>0.017007</td>\n",
       "      <td>0</td>\n",
       "      <td>0</td>\n",
       "      <td>1</td>\n",
       "      <td>0</td>\n",
       "      <td>0</td>\n",
       "      <td>1</td>\n",
       "      <td>0</td>\n",
       "    </tr>\n",
       "    <tr>\n",
       "      <th>4</th>\n",
       "      <td>343080.0</td>\n",
       "      <td>56839.0</td>\n",
       "      <td>0.869732</td>\n",
       "      <td>0.992780</td>\n",
       "      <td>0.003610</td>\n",
       "      <td>0</td>\n",
       "      <td>0</td>\n",
       "      <td>1</td>\n",
       "      <td>0</td>\n",
       "      <td>0</td>\n",
       "      <td>1</td>\n",
       "      <td>0</td>\n",
       "    </tr>\n",
       "  </tbody>\n",
       "</table>\n",
       "</div>"
      ],
      "text/plain": [
       "   Community_Population  Community_Median_Income  Percent_Healthy  \\\n",
       "0              319510.0                  55096.0         0.722846   \n",
       "1              327744.0                  57617.0         0.840304   \n",
       "2              335988.0                  53539.0         0.739316   \n",
       "3              340111.0                  54444.0         0.863333   \n",
       "4              343080.0                  56839.0         0.869732   \n",
       "\n",
       "   Adoption_Rate  Euth_Rate  comm_reg_Midwest  comm_reg_Northeast  \\\n",
       "0       0.988506   0.011494                 0                   0   \n",
       "1       0.992366   0.007634                 0                   0   \n",
       "2       0.970464   0.004219                 0                   0   \n",
       "3       0.935374   0.017007                 0                   0   \n",
       "4       0.992780   0.003610                 0                   0   \n",
       "\n",
       "   comm_reg_South  comm_reg_West  shelter_AC  shelter_AG  shelter_TS  \n",
       "0               1              0           0           1           0  \n",
       "1               1              0           0           1           0  \n",
       "2               1              0           0           1           0  \n",
       "3               1              0           0           1           0  \n",
       "4               1              0           0           1           0  "
      ]
     },
     "execution_count": 44,
     "metadata": {},
     "output_type": "execute_result"
    }
   ],
   "source": [
    "#new data frame\n",
    "\n",
    "df_d = df_dog[['Community_Population', 'Community_Median_Income', 'Percent_Healthy',\n",
    "              'Adoption_Rate', 'Euth_Rate']]\n",
    "\n",
    "df_d = df_d.join(dummy.ix[:, 'comm_reg_Midwest':])\n",
    "\n",
    "df_d = df_d.join(dummy2.ix[:, 'shelter_AC':])\n",
    "\n",
    "df_d.head()"
   ]
  },
  {
   "cell_type": "code",
   "execution_count": 45,
   "metadata": {
    "collapsed": false
   },
   "outputs": [
    {
     "data": {
      "text/html": [
       "<div>\n",
       "<style>\n",
       "    .dataframe thead tr:only-child th {\n",
       "        text-align: right;\n",
       "    }\n",
       "\n",
       "    .dataframe thead th {\n",
       "        text-align: left;\n",
       "    }\n",
       "\n",
       "    .dataframe tbody tr th {\n",
       "        vertical-align: top;\n",
       "    }\n",
       "</style>\n",
       "<table border=\"1\" class=\"dataframe\">\n",
       "  <thead>\n",
       "    <tr style=\"text-align: right;\">\n",
       "      <th></th>\n",
       "      <th>Community_Population</th>\n",
       "      <th>Community_Median_Income</th>\n",
       "      <th>Percent_Healthy</th>\n",
       "      <th>Adoption_Rate</th>\n",
       "      <th>Euth_Rate</th>\n",
       "      <th>comm_reg_Midwest</th>\n",
       "      <th>comm_reg_Northeast</th>\n",
       "      <th>comm_reg_South</th>\n",
       "      <th>comm_reg_West</th>\n",
       "      <th>shelter_AC</th>\n",
       "      <th>shelter_AG</th>\n",
       "      <th>shelter_TS</th>\n",
       "    </tr>\n",
       "  </thead>\n",
       "  <tbody>\n",
       "    <tr>\n",
       "      <th>count</th>\n",
       "      <td>1.350000e+03</td>\n",
       "      <td>1350.000000</td>\n",
       "      <td>1350.000000</td>\n",
       "      <td>1350.000000</td>\n",
       "      <td>1350.000000</td>\n",
       "      <td>1350.000000</td>\n",
       "      <td>1350.000000</td>\n",
       "      <td>1350.000000</td>\n",
       "      <td>1350.000000</td>\n",
       "      <td>1350.000000</td>\n",
       "      <td>1350.000000</td>\n",
       "      <td>1350.000000</td>\n",
       "    </tr>\n",
       "    <tr>\n",
       "      <th>mean</th>\n",
       "      <td>1.112929e+06</td>\n",
       "      <td>56356.405185</td>\n",
       "      <td>0.647918</td>\n",
       "      <td>0.631982</td>\n",
       "      <td>0.130184</td>\n",
       "      <td>0.126667</td>\n",
       "      <td>0.061481</td>\n",
       "      <td>0.298519</td>\n",
       "      <td>0.513333</td>\n",
       "      <td>0.379259</td>\n",
       "      <td>0.551852</td>\n",
       "      <td>0.068889</td>\n",
       "    </tr>\n",
       "    <tr>\n",
       "      <th>std</th>\n",
       "      <td>1.207722e+06</td>\n",
       "      <td>14045.482473</td>\n",
       "      <td>0.264500</td>\n",
       "      <td>0.341037</td>\n",
       "      <td>0.175796</td>\n",
       "      <td>0.332722</td>\n",
       "      <td>0.240300</td>\n",
       "      <td>0.457778</td>\n",
       "      <td>0.500007</td>\n",
       "      <td>0.485383</td>\n",
       "      <td>0.497488</td>\n",
       "      <td>0.253359</td>\n",
       "    </tr>\n",
       "    <tr>\n",
       "      <th>min</th>\n",
       "      <td>2.474100e+04</td>\n",
       "      <td>34119.000000</td>\n",
       "      <td>0.000000</td>\n",
       "      <td>0.000000</td>\n",
       "      <td>0.000000</td>\n",
       "      <td>0.000000</td>\n",
       "      <td>0.000000</td>\n",
       "      <td>0.000000</td>\n",
       "      <td>0.000000</td>\n",
       "      <td>0.000000</td>\n",
       "      <td>0.000000</td>\n",
       "      <td>0.000000</td>\n",
       "    </tr>\n",
       "    <tr>\n",
       "      <th>25%</th>\n",
       "      <td>2.897148e+05</td>\n",
       "      <td>45383.000000</td>\n",
       "      <td>0.483891</td>\n",
       "      <td>0.290144</td>\n",
       "      <td>0.006102</td>\n",
       "      <td>0.000000</td>\n",
       "      <td>0.000000</td>\n",
       "      <td>0.000000</td>\n",
       "      <td>0.000000</td>\n",
       "      <td>0.000000</td>\n",
       "      <td>0.000000</td>\n",
       "      <td>0.000000</td>\n",
       "    </tr>\n",
       "    <tr>\n",
       "      <th>50%</th>\n",
       "      <td>8.128260e+05</td>\n",
       "      <td>53539.000000</td>\n",
       "      <td>0.696277</td>\n",
       "      <td>0.743328</td>\n",
       "      <td>0.038513</td>\n",
       "      <td>0.000000</td>\n",
       "      <td>0.000000</td>\n",
       "      <td>0.000000</td>\n",
       "      <td>1.000000</td>\n",
       "      <td>0.000000</td>\n",
       "      <td>1.000000</td>\n",
       "      <td>0.000000</td>\n",
       "    </tr>\n",
       "    <tr>\n",
       "      <th>75%</th>\n",
       "      <td>1.529875e+06</td>\n",
       "      <td>67518.000000</td>\n",
       "      <td>0.859536</td>\n",
       "      <td>0.958727</td>\n",
       "      <td>0.211024</td>\n",
       "      <td>0.000000</td>\n",
       "      <td>0.000000</td>\n",
       "      <td>1.000000</td>\n",
       "      <td>1.000000</td>\n",
       "      <td>1.000000</td>\n",
       "      <td>1.000000</td>\n",
       "      <td>0.000000</td>\n",
       "    </tr>\n",
       "    <tr>\n",
       "      <th>max</th>\n",
       "      <td>8.491079e+06</td>\n",
       "      <td>97532.000000</td>\n",
       "      <td>1.000000</td>\n",
       "      <td>1.000000</td>\n",
       "      <td>0.830189</td>\n",
       "      <td>1.000000</td>\n",
       "      <td>1.000000</td>\n",
       "      <td>1.000000</td>\n",
       "      <td>1.000000</td>\n",
       "      <td>1.000000</td>\n",
       "      <td>1.000000</td>\n",
       "      <td>1.000000</td>\n",
       "    </tr>\n",
       "  </tbody>\n",
       "</table>\n",
       "</div>"
      ],
      "text/plain": [
       "       Community_Population  Community_Median_Income  Percent_Healthy  \\\n",
       "count          1.350000e+03              1350.000000      1350.000000   \n",
       "mean           1.112929e+06             56356.405185         0.647918   \n",
       "std            1.207722e+06             14045.482473         0.264500   \n",
       "min            2.474100e+04             34119.000000         0.000000   \n",
       "25%            2.897148e+05             45383.000000         0.483891   \n",
       "50%            8.128260e+05             53539.000000         0.696277   \n",
       "75%            1.529875e+06             67518.000000         0.859536   \n",
       "max            8.491079e+06             97532.000000         1.000000   \n",
       "\n",
       "       Adoption_Rate    Euth_Rate  comm_reg_Midwest  comm_reg_Northeast  \\\n",
       "count    1350.000000  1350.000000       1350.000000         1350.000000   \n",
       "mean        0.631982     0.130184          0.126667            0.061481   \n",
       "std         0.341037     0.175796          0.332722            0.240300   \n",
       "min         0.000000     0.000000          0.000000            0.000000   \n",
       "25%         0.290144     0.006102          0.000000            0.000000   \n",
       "50%         0.743328     0.038513          0.000000            0.000000   \n",
       "75%         0.958727     0.211024          0.000000            0.000000   \n",
       "max         1.000000     0.830189          1.000000            1.000000   \n",
       "\n",
       "       comm_reg_South  comm_reg_West   shelter_AC   shelter_AG   shelter_TS  \n",
       "count     1350.000000    1350.000000  1350.000000  1350.000000  1350.000000  \n",
       "mean         0.298519       0.513333     0.379259     0.551852     0.068889  \n",
       "std          0.457778       0.500007     0.485383     0.497488     0.253359  \n",
       "min          0.000000       0.000000     0.000000     0.000000     0.000000  \n",
       "25%          0.000000       0.000000     0.000000     0.000000     0.000000  \n",
       "50%          0.000000       1.000000     0.000000     1.000000     0.000000  \n",
       "75%          1.000000       1.000000     1.000000     1.000000     0.000000  \n",
       "max          1.000000       1.000000     1.000000     1.000000     1.000000  "
      ]
     },
     "execution_count": 45,
     "metadata": {},
     "output_type": "execute_result"
    }
   ],
   "source": [
    "df_d.describe()"
   ]
  },
  {
   "cell_type": "code",
   "execution_count": 46,
   "metadata": {
    "collapsed": false
   },
   "outputs": [
    {
     "data": {
      "text/html": [
       "<div>\n",
       "<style>\n",
       "    .dataframe thead tr:only-child th {\n",
       "        text-align: right;\n",
       "    }\n",
       "\n",
       "    .dataframe thead th {\n",
       "        text-align: left;\n",
       "    }\n",
       "\n",
       "    .dataframe tbody tr th {\n",
       "        vertical-align: top;\n",
       "    }\n",
       "</style>\n",
       "<table border=\"1\" class=\"dataframe\">\n",
       "  <thead>\n",
       "    <tr style=\"text-align: right;\">\n",
       "      <th></th>\n",
       "      <th>Community_Population</th>\n",
       "      <th>Community_Median_Income</th>\n",
       "      <th>Percent_Healthy</th>\n",
       "      <th>Adoption_Rate</th>\n",
       "      <th>Euth_Rate</th>\n",
       "      <th>comm_reg_Midwest</th>\n",
       "      <th>comm_reg_Northeast</th>\n",
       "      <th>comm_reg_South</th>\n",
       "      <th>comm_reg_West</th>\n",
       "      <th>shelter_AC</th>\n",
       "      <th>shelter_AG</th>\n",
       "      <th>shelter_TS</th>\n",
       "    </tr>\n",
       "  </thead>\n",
       "  <tbody>\n",
       "    <tr>\n",
       "      <th>Community_Population</th>\n",
       "      <td>1.000000</td>\n",
       "      <td>0.174713</td>\n",
       "      <td>-0.124732</td>\n",
       "      <td>0.072401</td>\n",
       "      <td>0.004707</td>\n",
       "      <td>-0.095643</td>\n",
       "      <td>0.187169</td>\n",
       "      <td>-0.247373</td>\n",
       "      <td>0.200172</td>\n",
       "      <td>-0.082044</td>\n",
       "      <td>0.048144</td>\n",
       "      <td>0.062646</td>\n",
       "    </tr>\n",
       "    <tr>\n",
       "      <th>Community_Median_Income</th>\n",
       "      <td>0.174713</td>\n",
       "      <td>1.000000</td>\n",
       "      <td>-0.054493</td>\n",
       "      <td>0.136162</td>\n",
       "      <td>-0.184213</td>\n",
       "      <td>-0.217563</td>\n",
       "      <td>-0.123244</td>\n",
       "      <td>-0.438850</td>\n",
       "      <td>0.605790</td>\n",
       "      <td>-0.063039</td>\n",
       "      <td>0.107564</td>\n",
       "      <td>-0.090440</td>\n",
       "    </tr>\n",
       "    <tr>\n",
       "      <th>Percent_Healthy</th>\n",
       "      <td>-0.124732</td>\n",
       "      <td>-0.054493</td>\n",
       "      <td>1.000000</td>\n",
       "      <td>0.030642</td>\n",
       "      <td>-0.142678</td>\n",
       "      <td>0.110176</td>\n",
       "      <td>-0.036082</td>\n",
       "      <td>-0.121306</td>\n",
       "      <td>0.055087</td>\n",
       "      <td>-0.022149</td>\n",
       "      <td>0.039532</td>\n",
       "      <td>-0.035190</td>\n",
       "    </tr>\n",
       "    <tr>\n",
       "      <th>Adoption_Rate</th>\n",
       "      <td>0.072401</td>\n",
       "      <td>0.136162</td>\n",
       "      <td>0.030642</td>\n",
       "      <td>1.000000</td>\n",
       "      <td>-0.670599</td>\n",
       "      <td>0.008558</td>\n",
       "      <td>0.021292</td>\n",
       "      <td>-0.108576</td>\n",
       "      <td>0.083478</td>\n",
       "      <td>-0.819237</td>\n",
       "      <td>0.841710</td>\n",
       "      <td>-0.083272</td>\n",
       "    </tr>\n",
       "    <tr>\n",
       "      <th>Euth_Rate</th>\n",
       "      <td>0.004707</td>\n",
       "      <td>-0.184213</td>\n",
       "      <td>-0.142678</td>\n",
       "      <td>-0.670599</td>\n",
       "      <td>1.000000</td>\n",
       "      <td>0.024044</td>\n",
       "      <td>0.013885</td>\n",
       "      <td>0.212102</td>\n",
       "      <td>-0.216861</td>\n",
       "      <td>0.555399</td>\n",
       "      <td>-0.648556</td>\n",
       "      <td>0.209457</td>\n",
       "    </tr>\n",
       "    <tr>\n",
       "      <th>comm_reg_Midwest</th>\n",
       "      <td>-0.095643</td>\n",
       "      <td>-0.217563</td>\n",
       "      <td>0.110176</td>\n",
       "      <td>0.008558</td>\n",
       "      <td>0.024044</td>\n",
       "      <td>1.000000</td>\n",
       "      <td>-0.097475</td>\n",
       "      <td>-0.248438</td>\n",
       "      <td>-0.391134</td>\n",
       "      <td>-0.091129</td>\n",
       "      <td>0.074491</td>\n",
       "      <td>0.028316</td>\n",
       "    </tr>\n",
       "    <tr>\n",
       "      <th>comm_reg_Northeast</th>\n",
       "      <td>0.187169</td>\n",
       "      <td>-0.123244</td>\n",
       "      <td>-0.036082</td>\n",
       "      <td>0.021292</td>\n",
       "      <td>0.013885</td>\n",
       "      <td>-0.097475</td>\n",
       "      <td>1.000000</td>\n",
       "      <td>-0.166966</td>\n",
       "      <td>-0.262866</td>\n",
       "      <td>0.009670</td>\n",
       "      <td>-0.085595</td>\n",
       "      <td>0.149546</td>\n",
       "    </tr>\n",
       "    <tr>\n",
       "      <th>comm_reg_South</th>\n",
       "      <td>-0.247373</td>\n",
       "      <td>-0.438850</td>\n",
       "      <td>-0.121306</td>\n",
       "      <td>-0.108576</td>\n",
       "      <td>0.212102</td>\n",
       "      <td>-0.248438</td>\n",
       "      <td>-0.166966</td>\n",
       "      <td>1.000000</td>\n",
       "      <td>-0.669979</td>\n",
       "      <td>0.130640</td>\n",
       "      <td>-0.098940</td>\n",
       "      <td>-0.056003</td>\n",
       "    </tr>\n",
       "    <tr>\n",
       "      <th>comm_reg_West</th>\n",
       "      <td>0.200172</td>\n",
       "      <td>0.605790</td>\n",
       "      <td>0.055087</td>\n",
       "      <td>0.083478</td>\n",
       "      <td>-0.216861</td>\n",
       "      <td>-0.391134</td>\n",
       "      <td>-0.262866</td>\n",
       "      <td>-0.669979</td>\n",
       "      <td>1.000000</td>\n",
       "      <td>-0.063613</td>\n",
       "      <td>0.082151</td>\n",
       "      <td>-0.039440</td>\n",
       "    </tr>\n",
       "    <tr>\n",
       "      <th>shelter_AC</th>\n",
       "      <td>-0.082044</td>\n",
       "      <td>-0.063039</td>\n",
       "      <td>-0.022149</td>\n",
       "      <td>-0.819237</td>\n",
       "      <td>0.555399</td>\n",
       "      <td>-0.091129</td>\n",
       "      <td>0.009670</td>\n",
       "      <td>0.130640</td>\n",
       "      <td>-0.063613</td>\n",
       "      <td>1.000000</td>\n",
       "      <td>-0.867388</td>\n",
       "      <td>-0.212612</td>\n",
       "    </tr>\n",
       "    <tr>\n",
       "      <th>shelter_AG</th>\n",
       "      <td>0.048144</td>\n",
       "      <td>0.107564</td>\n",
       "      <td>0.039532</td>\n",
       "      <td>0.841710</td>\n",
       "      <td>-0.648556</td>\n",
       "      <td>0.074491</td>\n",
       "      <td>-0.085595</td>\n",
       "      <td>-0.098940</td>\n",
       "      <td>0.082151</td>\n",
       "      <td>-0.867388</td>\n",
       "      <td>1.000000</td>\n",
       "      <td>-0.301838</td>\n",
       "    </tr>\n",
       "    <tr>\n",
       "      <th>shelter_TS</th>\n",
       "      <td>0.062646</td>\n",
       "      <td>-0.090440</td>\n",
       "      <td>-0.035190</td>\n",
       "      <td>-0.083272</td>\n",
       "      <td>0.209457</td>\n",
       "      <td>0.028316</td>\n",
       "      <td>0.149546</td>\n",
       "      <td>-0.056003</td>\n",
       "      <td>-0.039440</td>\n",
       "      <td>-0.212612</td>\n",
       "      <td>-0.301838</td>\n",
       "      <td>1.000000</td>\n",
       "    </tr>\n",
       "  </tbody>\n",
       "</table>\n",
       "</div>"
      ],
      "text/plain": [
       "                         Community_Population  Community_Median_Income  \\\n",
       "Community_Population                 1.000000                 0.174713   \n",
       "Community_Median_Income              0.174713                 1.000000   \n",
       "Percent_Healthy                     -0.124732                -0.054493   \n",
       "Adoption_Rate                        0.072401                 0.136162   \n",
       "Euth_Rate                            0.004707                -0.184213   \n",
       "comm_reg_Midwest                    -0.095643                -0.217563   \n",
       "comm_reg_Northeast                   0.187169                -0.123244   \n",
       "comm_reg_South                      -0.247373                -0.438850   \n",
       "comm_reg_West                        0.200172                 0.605790   \n",
       "shelter_AC                          -0.082044                -0.063039   \n",
       "shelter_AG                           0.048144                 0.107564   \n",
       "shelter_TS                           0.062646                -0.090440   \n",
       "\n",
       "                         Percent_Healthy  Adoption_Rate  Euth_Rate  \\\n",
       "Community_Population           -0.124732       0.072401   0.004707   \n",
       "Community_Median_Income        -0.054493       0.136162  -0.184213   \n",
       "Percent_Healthy                 1.000000       0.030642  -0.142678   \n",
       "Adoption_Rate                   0.030642       1.000000  -0.670599   \n",
       "Euth_Rate                      -0.142678      -0.670599   1.000000   \n",
       "comm_reg_Midwest                0.110176       0.008558   0.024044   \n",
       "comm_reg_Northeast             -0.036082       0.021292   0.013885   \n",
       "comm_reg_South                 -0.121306      -0.108576   0.212102   \n",
       "comm_reg_West                   0.055087       0.083478  -0.216861   \n",
       "shelter_AC                     -0.022149      -0.819237   0.555399   \n",
       "shelter_AG                      0.039532       0.841710  -0.648556   \n",
       "shelter_TS                     -0.035190      -0.083272   0.209457   \n",
       "\n",
       "                         comm_reg_Midwest  comm_reg_Northeast  comm_reg_South  \\\n",
       "Community_Population            -0.095643            0.187169       -0.247373   \n",
       "Community_Median_Income         -0.217563           -0.123244       -0.438850   \n",
       "Percent_Healthy                  0.110176           -0.036082       -0.121306   \n",
       "Adoption_Rate                    0.008558            0.021292       -0.108576   \n",
       "Euth_Rate                        0.024044            0.013885        0.212102   \n",
       "comm_reg_Midwest                 1.000000           -0.097475       -0.248438   \n",
       "comm_reg_Northeast              -0.097475            1.000000       -0.166966   \n",
       "comm_reg_South                  -0.248438           -0.166966        1.000000   \n",
       "comm_reg_West                   -0.391134           -0.262866       -0.669979   \n",
       "shelter_AC                      -0.091129            0.009670        0.130640   \n",
       "shelter_AG                       0.074491           -0.085595       -0.098940   \n",
       "shelter_TS                       0.028316            0.149546       -0.056003   \n",
       "\n",
       "                         comm_reg_West  shelter_AC  shelter_AG  shelter_TS  \n",
       "Community_Population          0.200172   -0.082044    0.048144    0.062646  \n",
       "Community_Median_Income       0.605790   -0.063039    0.107564   -0.090440  \n",
       "Percent_Healthy               0.055087   -0.022149    0.039532   -0.035190  \n",
       "Adoption_Rate                 0.083478   -0.819237    0.841710   -0.083272  \n",
       "Euth_Rate                    -0.216861    0.555399   -0.648556    0.209457  \n",
       "comm_reg_Midwest             -0.391134   -0.091129    0.074491    0.028316  \n",
       "comm_reg_Northeast           -0.262866    0.009670   -0.085595    0.149546  \n",
       "comm_reg_South               -0.669979    0.130640   -0.098940   -0.056003  \n",
       "comm_reg_West                 1.000000   -0.063613    0.082151   -0.039440  \n",
       "shelter_AC                   -0.063613    1.000000   -0.867388   -0.212612  \n",
       "shelter_AG                    0.082151   -0.867388    1.000000   -0.301838  \n",
       "shelter_TS                   -0.039440   -0.212612   -0.301838    1.000000  "
      ]
     },
     "execution_count": 46,
     "metadata": {},
     "output_type": "execute_result"
    }
   ],
   "source": [
    "df_d.corr()"
   ]
  },
  {
   "cell_type": "code",
   "execution_count": 47,
   "metadata": {
    "collapsed": false
   },
   "outputs": [
    {
     "data": {
      "text/plain": [
       "<matplotlib.axes._subplots.AxesSubplot at 0x1166befd0>"
      ]
     },
     "execution_count": 47,
     "metadata": {},
     "output_type": "execute_result"
    },
    {
     "data": {
      "image/png": "[encoded data removed]",
      "text/plain": [
       "<matplotlib.figure.Figure at 0x116995e10>"
      ]
     },
     "metadata": {},
     "output_type": "display_data"
    }
   ],
   "source": [
    "c = df_d.corr()\n",
    "sns.heatmap(c)"
   ]
  },
  {
   "cell_type": "code",
   "execution_count": 48,
   "metadata": {
    "collapsed": false
   },
   "outputs": [
    {
     "data": {
      "image/png": "[encoded data removed]",
      "text/plain": [
       "<matplotlib.figure.Figure at 0x116c3e2d0>"
      ]
     },
     "metadata": {},
     "output_type": "display_data"
    }
   ],
   "source": [
    "#plot the distribution of each variable\n",
    "df_d.hist()\n",
    "pl.show()"
   ]
  },
  {
   "cell_type": "code",
   "execution_count": 49,
   "metadata": {
    "collapsed": false
   },
   "outputs": [
    {
     "data": {
      "text/plain": [
       "<matplotlib.axes._subplots.AxesSubplot at 0x11830ab90>"
      ]
     },
     "execution_count": 49,
     "metadata": {},
     "output_type": "execute_result"
    },
    {
     "data": {
      "image/png": "[encoded data removed]",
      "text/plain": [
       "<matplotlib.figure.Figure at 0x11867fcd0>"
      ]
     },
     "metadata": {},
     "output_type": "display_data"
    }
   ],
   "source": [
    "#create box plot for Community Median Income\n",
    "df_d['Community_Median_Income'].plot(kind='box')"
   ]
  },
  {
   "cell_type": "code",
   "execution_count": 50,
   "metadata": {
    "collapsed": false
   },
   "outputs": [
    {
     "data": {
      "text/plain": [
       "<matplotlib.axes._subplots.AxesSubplot at 0x1165a2cd0>"
      ]
     },
     "execution_count": 50,
     "metadata": {},
     "output_type": "execute_result"
    },
    {
     "data": {
      "image/png": "[encoded data removed]",
      "text/plain": [
       "<matplotlib.figure.Figure at 0x11873e110>"
      ]
     },
     "metadata": {},
     "output_type": "display_data"
    }
   ],
   "source": [
    "#create box plot for Community Population\n",
    "df_d['Community_Population'].plot(kind='box')"
   ]
  },
  {
   "cell_type": "code",
   "execution_count": 51,
   "metadata": {
    "collapsed": false
   },
   "outputs": [
    {
     "data": {
      "text/plain": [
       "<matplotlib.axes._subplots.AxesSubplot at 0x118769ad0>"
      ]
     },
     "execution_count": 51,
     "metadata": {},
     "output_type": "execute_result"
    },
    {
     "data": {
      "image/png": "[encoded data removed]",
      "text/plain": [
       "<matplotlib.figure.Figure at 0x118779e10>"
      ]
     },
     "metadata": {},
     "output_type": "display_data"
    }
   ],
   "source": [
    "#create box plot for Percent Healthy\n",
    "df_d['Percent_Healthy'].plot(kind='box')"
   ]
  },
  {
   "cell_type": "code",
   "execution_count": 52,
   "metadata": {
    "collapsed": false
   },
   "outputs": [
    {
     "data": {
      "text/plain": [
       "<matplotlib.axes._subplots.AxesSubplot at 0x118909510>"
      ]
     },
     "execution_count": 52,
     "metadata": {},
     "output_type": "execute_result"
    },
    {
     "data": {
      "image/png": "[encoded data removed]",
      "text/plain": [
       "<matplotlib.figure.Figure at 0x11897f610>"
      ]
     },
     "metadata": {},
     "output_type": "display_data"
    }
   ],
   "source": [
    "#create box plot for Adoption Rate\n",
    "df_d['Adoption_Rate'].plot(kind='box')"
   ]
  },
  {
   "cell_type": "code",
   "execution_count": 53,
   "metadata": {
    "collapsed": false
   },
   "outputs": [
    {
     "data": {
      "text/plain": [
       "<matplotlib.axes._subplots.AxesSubplot at 0x118a1e5d0>"
      ]
     },
     "execution_count": 53,
     "metadata": {},
     "output_type": "execute_result"
    },
    {
     "data": {
      "image/png": "[encoded data removed]",
      "text/plain": [
       "<matplotlib.figure.Figure at 0x118a9e850>"
      ]
     },
     "metadata": {},
     "output_type": "display_data"
    }
   ],
   "source": [
    "#create box plot for Euthanized Rate\n",
    "df_d['Euth_Rate'].plot(kind='box')"
   ]
  },
  {
   "cell_type": "code",
   "execution_count": 54,
   "metadata": {
    "collapsed": false
   },
   "outputs": [
    {
     "data": {
      "text/plain": [
       "<matplotlib.axes._subplots.AxesSubplot at 0x118737890>"
      ]
     },
     "execution_count": 54,
     "metadata": {},
     "output_type": "execute_result"
    },
    {
     "data": {
      "image/png": "[encoded data removed]",
      "text/plain": [
       "<matplotlib.figure.Figure at 0x118b4e490>"
      ]
     },
     "metadata": {},
     "output_type": "display_data"
    }
   ],
   "source": [
    "#different way of looking at Adoption Rate\n",
    "df_d['Adoption_Rate'].plot(kind='hist', xlim=[0.0, 1.5], ylim=[0.0, 100], bins=100)"
   ]
  },
  {
   "cell_type": "code",
   "execution_count": 55,
   "metadata": {
    "collapsed": false
   },
   "outputs": [
    {
     "data": {
      "text/plain": [
       "<matplotlib.axes._subplots.AxesSubplot at 0x118d7a750>"
      ]
     },
     "execution_count": 55,
     "metadata": {},
     "output_type": "execute_result"
    },
    {
     "data": {
      "image/png": "[encoded data removed]",
      "text/plain": [
       "<matplotlib.figure.Figure at 0x1189a8a90>"
      ]
     },
     "metadata": {},
     "output_type": "display_data"
    }
   ],
   "source": [
    "#different way of looking at Euthanized Rate\n",
    "df_d['Euth_Rate'].plot(kind='hist', xlim=[0.0, 1.0], ylim=[0.0, 450], bins=80)"
   ]
  },
  {
   "cell_type": "markdown",
   "metadata": {},
   "source": [
    "It does look as though there are some factors given that do correlate with Adoption Rate and Euthanized Rate."
   ]
  }
 ],
 "metadata": {
  "kernelspec": {
   "display_name": "Python 2",
   "language": "python",
   "name": "python2"
  },
  "language_info": {
   "codemirror_mode": {
    "name": "ipython",
    "version": 2
   },
   "file_extension": ".py",
   "mimetype": "text/x-python",
   "name": "python",
   "nbconvert_exporter": "python",
   "pygments_lexer": "ipython2",
   "version": "2.7.13"
  }
 },
 "nbformat": 4,
 "nbformat_minor": 2
}
