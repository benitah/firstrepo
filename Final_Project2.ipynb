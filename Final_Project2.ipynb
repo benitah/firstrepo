{
 "cells": [
  {
   "cell_type": "markdown",
   "metadata": {},
   "source": [
    "# Final Project #2"
   ]
  },
  {
   "cell_type": "markdown",
   "metadata": {},
   "source": [
    "## Project Problem and Hypothesis\n",
    "\n",
    "Every year, tens of thousands of cats and dogs end up in shelters.  We know many of them do not make it out.  What are some factors that increase likelihood of adoption?  What can we say about increasing the survival rate?  Taking data from 2008-2014, I have Intake and Outcome numbers by shelter, by year, and we will take a look at how health at intake, average income of the county the shelter resides in, and region of the US play a role in outcomes.  "
   ]
  },
  {
   "cell_type": "markdown",
   "metadata": {},
   "source": [
    "## Dataset\n",
    "\n",
    "413 shelters from around the continuous United States voluntarily track and submit their numbers using Basic Data Matrix, a basis for the minimum data points shelters should be collecting and reporting put together by the Asilomar Accords in order to standardize statistical shelter reporting.  This set is broken into cat and dog. \n",
    "\n",
    "At Intake and Outcome, the animal is given 1 of 4 Health Status: Healthy, Treatable – Rehabilitatable, Treatable – Manageable, Unhealthy & Untreatable.  There are 3 classifications of Outcome: adoption, transfer, euthanasia."
   ]
  },
  {
   "cell_type": "code",
   "execution_count": 4,
   "metadata": {
    "collapsed": false
   },
   "outputs": [
    {
     "name": "stdout",
     "output_type": "stream",
     "text": [
      "   Year Community_ID Community_Name Community_County  Community_FIPS_Code  \\\n",
      "0  2014        MOBIL  Mobile County           Mobile                 1097   \n",
      "1  2014        MOBIL  Mobile County           Mobile                 1097   \n",
      "2  2014        MOBIL  Mobile County           Mobile                 1097   \n",
      "3  2014        MOBIL  Mobile County           Mobile                 1097   \n",
      "4  2014        MOBIL  Mobile County           Mobile                 1097   \n",
      "\n",
      "  Community_Region Community_State  Community_Zip  Community_Population  \\\n",
      "0            South              AL          36608                415123   \n",
      "1            South              AL          36608                415123   \n",
      "2            South              AL          36608                415123   \n",
      "3            South              AL          36608                415123   \n",
      "4            South              AL          36608                415123   \n",
      "\n",
      "   Community_Median_Income     ...      Euth_TR_C Euth_TM_C  Euth_UU_C  \\\n",
      "0                    43642     ...            0.0       0.0        1.0   \n",
      "1                    43642     ...            5.0       4.0      737.0   \n",
      "2                    43642     ...           10.0      19.0       76.0   \n",
      "3                    43642     ...            0.0       0.0        0.0   \n",
      "4                    43642     ...           24.0      20.0      176.0   \n",
      "\n",
      "   Total_Euth_C ORE_Euth_UU_C Total_Euth_Adj_C  Sub_Outcomes_C  Died_Lost_C  \\\n",
      "0           1.0           0.0              1.0            13.0          0.0   \n",
      "1         746.0          16.0            730.0           943.0        229.0   \n",
      "2         115.0          26.0             89.0           101.0         19.0   \n",
      "3           0.0           0.0              0.0            26.0          0.0   \n",
      "4         222.0          10.0            212.0           550.0         10.0   \n",
      "\n",
      "   Total_Outcomes_C  End_Count_C  \n",
      "0              13.0         19.0  \n",
      "1            1172.0         44.0  \n",
      "2             120.0          3.0  \n",
      "3              26.0          6.0  \n",
      "4             560.0          0.0  \n",
      "\n",
      "[5 rows x 120 columns]\n"
     ]
    }
   ],
   "source": [
    "import pandas as pd\n",
    "\n",
    "xls_file = pd.ExcelFile('../2/Maddies_Dataset.xlsx')\n",
    "xls_file\n",
    "\n",
    "# Parse the excel file\n",
    "data = pd.read_excel(xls_file, 0)\n",
    "print data.head()"
   ]
  },
  {
   "cell_type": "markdown",
   "metadata": {},
   "source": [
    "## Domain Knowledge\n",
    "\n",
    "I honestly don’t know much about the topic, which is why I wanted to explore.  Other than a general sense of the awareness of hundreds (maybe thousands) of pets that are euthanized each year from the lack of having an owner or place to live, this is my first time deeply exploring animal shelter data.  I think my interest has already sparked the seeking of knowledge around the subject and am looking forward to discovering more."
   ]
  },
  {
   "cell_type": "markdown",
   "metadata": {},
   "source": [
    "## Project Concerns\n",
    "\n",
    "\n",
    "I had hoped to obtain age and breed of the cat/dog but the data is not on the animal level.\n",
    "There is no way to determine which Health Status an animal was given upon intake and track the Health Status it had at Outcome.  I’m planning on reaching out to the site I had received the data from and see if they might have a pivot of what I am looking for.\n",
    "It would be interesting to find out the cost to euthanize an animal and do an analysis on cost per animal or annual spend for each shelter.\n",
    "\n"
   ]
  },
  {
   "cell_type": "markdown",
   "metadata": {},
   "source": [
    "## Outcomes\n",
    "\n",
    "\n",
    "I saw a dashboard of metrics for the dataset we will take a look at, so at the very least if I wanted to I could cross check my summary metrics against theirs.  \n",
    "If there are any correlations or if we are able to identify unexpected patterns I will call that a success.  \n",
    "I’ll be happy if we are able to show the model used is strong."
   ]
  }
 ],
 "metadata": {
  "kernelspec": {
   "display_name": "Python 2",
   "language": "python",
   "name": "python2"
  },
  "language_info": {
   "codemirror_mode": {
    "name": "ipython",
    "version": 2
   },
   "file_extension": ".py",
   "mimetype": "text/x-python",
   "name": "python",
   "nbconvert_exporter": "python",
   "pygments_lexer": "ipython2",
   "version": "2.7.13"
  }
 },
 "nbformat": 4,
 "nbformat_minor": 0
}
